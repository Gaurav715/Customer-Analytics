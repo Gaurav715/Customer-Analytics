{
  "nbformat": 4,
  "nbformat_minor": 0,
  "metadata": {
    "colab": {
      "name": "Customer analytics using deep learning.ipynb",
      "provenance": []
    },
    "kernelspec": {
      "name": "python3",
      "display_name": "Python 3"
    },
    "accelerator": "GPU"
  },
  "cells": [
    {
      "cell_type": "markdown",
      "metadata": {
        "id": "xWydNR771EIQ",
        "colab_type": "text"
      },
      "source": [
        "**Extract the data from csv**"
      ]
    },
    {
      "cell_type": "code",
      "metadata": {
        "id": "h0SZPG_q1M41",
        "colab_type": "code",
        "colab": {}
      },
      "source": [
        "import numpy as np\n",
        "\n",
        "# We will use the StandardScaler module, so we can later deploy the model\n",
        "from sklearn.preprocessing import StandardScaler\n",
        "\n",
        "import pickle\n",
        "\n",
        "# Load the data\n",
        "raw_csv_data = np.loadtxt('Audiobooks_data.csv',delimiter=',')\n",
        "\n",
        "# The inputs are all columns in the csv, except for the first one and the last one\n",
        "# The first column is the arbitrary ID, while the last contains the targets\n",
        "\n",
        "unscaled_inputs_all = raw_csv_data[:,1:-1]\n",
        "\n",
        "# The targets are in the last column. That's how datasets are conventionally organized.\n",
        "targets_all = raw_csv_data[:,-1]"
      ],
      "execution_count": 10,
      "outputs": []
    },
    {
      "cell_type": "markdown",
      "metadata": {
        "id": "YWW_1cbY13lF",
        "colab_type": "text"
      },
      "source": [
        "**Balance the dataset**"
      ]
    },
    {
      "cell_type": "code",
      "metadata": {
        "id": "vkxHDzQ21mq1",
        "colab_type": "code",
        "colab": {}
      },
      "source": [
        "# There are different Python packages that could be used for balancing\n",
        "# Here we approach the problem manually, so you can observe the inner workings of the balancing process\n",
        "\n",
        "# Count how many targets are 1 (meaning that the customer did convert)\n",
        "num_one_targets = int(np.sum(targets_all))\n",
        "\n",
        "# Set a counter for targets that are 0 (meaning that the customer did not convert)\n",
        "zero_targets_counter = 0\n",
        "\n",
        "# We want to create a \"balanced\" dataset, so we will have to remove some input/target pairs.\n",
        "# Declare a variable that will do that:\n",
        "indices_to_remove = []\n",
        "\n",
        "# Count the number of targets that are 0. \n",
        "# Once there are as many 0s as 1s, mark entries where the target is 0.\n",
        "for i in range(targets_all.shape[0]):\n",
        "    if targets_all[i] == 0:\n",
        "        zero_targets_counter += 1\n",
        "        if zero_targets_counter > num_one_targets:\n",
        "            indices_to_remove.append(i)\n",
        "\n",
        "# Create two new variables, one that will contain the inputs, and one that will contain the targets.\n",
        "# We delete all indices that we marked \"to remove\" in the loop above.\n",
        "unscaled_inputs_equal_priors = np.delete(unscaled_inputs_all, indices_to_remove, axis=0)\n",
        "targets_equal_priors = np.delete(targets_all, indices_to_remove, axis=0)"
      ],
      "execution_count": 11,
      "outputs": []
    },
    {
      "cell_type": "markdown",
      "metadata": {
        "id": "qvuWfPVe3Rak",
        "colab_type": "text"
      },
      "source": [
        "**Standardize the input**"
      ]
    },
    {
      "cell_type": "code",
      "metadata": {
        "id": "JKPK59XR26Ii",
        "colab_type": "code",
        "colab": {}
      },
      "source": [
        "# Crete a standar scaler object\n",
        "scaler_deep_learning = StandardScaler()\n",
        "# Fit and transform the original data\n",
        "# Essentially, we calculate and STORE the mean and variance of the data in the scaler object\n",
        "# At the same time we standrdize the data using this information\n",
        "# Note that the mean and variance remain recorded in the scaler object\n",
        "scaled_inputs = scaler_deep_learning.fit_transform(unscaled_inputs_equal_priors)"
      ],
      "execution_count": 12,
      "outputs": []
    },
    {
      "cell_type": "markdown",
      "metadata": {
        "id": "BHgwtFGD3uXn",
        "colab_type": "text"
      },
      "source": [
        "**Shuffle the data**"
      ]
    },
    {
      "cell_type": "code",
      "metadata": {
        "id": "gq1oM1_63n58",
        "colab_type": "code",
        "colab": {}
      },
      "source": [
        "# When the data was collected it was actually arranged by date\n",
        "# Shuffle the indices of the data, so the data is not arranged in any way when we feed it.\n",
        "# Since we will be batching, we want the data to be as randomly spread out as possible\n",
        "shuffled_indices = np.arange(scaled_inputs.shape[0])\n",
        "np.random.shuffle(shuffled_indices)\n",
        "\n",
        "# Use the shuffled indices to shuffle the inputs and targets.\n",
        "shuffled_inputs = scaled_inputs[shuffled_indices]\n",
        "shuffled_targets = targets_equal_priors[shuffled_indices]"
      ],
      "execution_count": 13,
      "outputs": []
    },
    {
      "cell_type": "markdown",
      "metadata": {
        "id": "OhHp8STK4pQ3",
        "colab_type": "text"
      },
      "source": [
        "# split the dataset into train validation and test"
      ]
    },
    {
      "cell_type": "code",
      "metadata": {
        "id": "Wsu_Gkoy4HTG",
        "colab_type": "code",
        "colab": {
          "base_uri": "https://localhost:8080/",
          "height": 67
        },
        "outputId": "c2c0a1ca-b183-444a-9b8f-30025c98b87b"
      },
      "source": [
        "# Count the total number of samples\n",
        "samples_count = shuffled_inputs.shape[0]\n",
        "\n",
        "# Count the samples in each subset, assuming we want 80-10-10 distribution of training, validation, and test.\n",
        "# Naturally, the numbers are integers.\n",
        "train_samples_count = int(0.8 * samples_count)\n",
        "validation_samples_count = int(0.1 * samples_count)\n",
        "\n",
        "# The 'test' dataset contains all remaining data.\n",
        "test_samples_count = samples_count - train_samples_count - validation_samples_count\n",
        "\n",
        "# Create variables that record the inputs and targets for training\n",
        "# In our shuffled dataset, they are the first \"train_samples_count\" observations\n",
        "train_inputs = shuffled_inputs[:train_samples_count]\n",
        "train_targets = shuffled_targets[:train_samples_count]\n",
        "\n",
        "# Create variables that record the inputs and targets for validation.\n",
        "# They are the next \"validation_samples_count\" observations, folllowing the \"train_samples_count\" we already assigned\n",
        "validation_inputs = shuffled_inputs[train_samples_count:train_samples_count+validation_samples_count]\n",
        "validation_targets = shuffled_targets[train_samples_count:train_samples_count+validation_samples_count]\n",
        "\n",
        "# Create variables that record the inputs and targets for test.\n",
        "# They are everything that is remaining.\n",
        "test_inputs = shuffled_inputs[train_samples_count+validation_samples_count:]\n",
        "test_targets = shuffled_targets[train_samples_count+validation_samples_count:]\n",
        "\n",
        "# We balanced our dataset to be 50-50 (for targets 0 and 1), but the training, validation, and test were \n",
        "# taken from a shuffled dataset. Check if they are balanced, too. Note that each time you rerun this code, \n",
        "# you will get different values, as each time they are shuffled randomly.\n",
        "# Normally you preprocess ONCE, so you need not rerun this code once it is done.\n",
        "# If you rerun this whole sheet, the npzs will be overwritten with your newly preprocessed data.\n",
        "\n",
        "# Print the number of targets that are 1s, the total number of samples, and the proportion for training, validation, and test.\n",
        "print(np.sum(train_targets), train_samples_count, np.sum(train_targets) / train_samples_count)\n",
        "print(np.sum(validation_targets), validation_samples_count, np.sum(validation_targets) / validation_samples_count)\n",
        "print(np.sum(test_targets), test_samples_count, np.sum(test_targets) / test_samples_count)\n"
      ],
      "execution_count": 14,
      "outputs": [
        {
          "output_type": "stream",
          "text": [
            "1777.0 3579 0.4965074043028779\n",
            "225.0 447 0.5033557046979866\n",
            "235.0 448 0.5245535714285714\n"
          ],
          "name": "stdout"
        }
      ]
    },
    {
      "cell_type": "markdown",
      "metadata": {
        "id": "JXCDqIoV5ytB",
        "colab_type": "text"
      },
      "source": [
        "# save three data set in .npz file"
      ]
    },
    {
      "cell_type": "code",
      "metadata": {
        "id": "bnRmIYcH5wCN",
        "colab_type": "code",
        "colab": {}
      },
      "source": [
        "# Save the three datasets in *.npz.\n",
        "# In the next lesson, you will see that it is extremely valuable to name them in such a coherent way!\n",
        "\n",
        "np.savez('Audiobooks_data_train', inputs=train_inputs, targets=train_targets)\n",
        "np.savez('Audiobooks_data_validation', inputs=validation_inputs, targets=validation_targets)\n",
        "np.savez('Audiobooks_data_test', inputs=test_inputs, targets=test_targets)"
      ],
      "execution_count": 15,
      "outputs": []
    },
    {
      "cell_type": "markdown",
      "metadata": {
        "id": "7nHD5jvW55-k",
        "colab_type": "text"
      },
      "source": [
        "# save the scaler"
      ]
    },
    {
      "cell_type": "code",
      "metadata": {
        "id": "HWcWZ5Li52en",
        "colab_type": "code",
        "colab": {}
      },
      "source": [
        "# Similar to how we have saved the scaler files before, we also save this scaler, so we can apply in on new data\n",
        "pickle.dump(scaler_deep_learning, open('scaler_deep_learning.pickle', 'wb'))"
      ],
      "execution_count": 16,
      "outputs": []
    },
    {
      "cell_type": "markdown",
      "metadata": {
        "id": "aXuT58PD7Jk7",
        "colab_type": "text"
      },
      "source": [
        "# **MACHINE LEARNING ALGORITHM**"
      ]
    },
    {
      "cell_type": "markdown",
      "metadata": {
        "id": "VA79nUxl7Q1o",
        "colab_type": "text"
      },
      "source": [
        "**Import the library**"
      ]
    },
    {
      "cell_type": "code",
      "metadata": {
        "id": "Z744sgil7QCO",
        "colab_type": "code",
        "colab": {}
      },
      "source": [
        "import numpy as np\n",
        "import tensorflow as tf"
      ],
      "execution_count": 17,
      "outputs": []
    },
    {
      "cell_type": "markdown",
      "metadata": {
        "id": "ufien5a87aeh",
        "colab_type": "text"
      },
      "source": [
        "**Data**"
      ]
    },
    {
      "cell_type": "code",
      "metadata": {
        "id": "r9Sk5uJV58gt",
        "colab_type": "code",
        "colab": {}
      },
      "source": [
        "npz = np.load('Audiobooks_data_train.npz')\n",
        "train_inputs = npz['inputs'].astype(np.float)\n",
        "train_targets = npz['targets'].astype(np.int)\n",
        "\n",
        "npz = np.load('Audiobooks_data_validation.npz')\n",
        "validation_inputs,validation_targets = npz['inputs'].astype(np.float),npz['targets'].astype(np.int)"
      ],
      "execution_count": 18,
      "outputs": []
    },
    {
      "cell_type": "markdown",
      "metadata": {
        "id": "GhtzYHl28m1w",
        "colab_type": "text"
      },
      "source": [
        "**Model**"
      ]
    },
    {
      "cell_type": "code",
      "metadata": {
        "id": "ulRpao638ih3",
        "colab_type": "code",
        "colab": {
          "base_uri": "https://localhost:8080/",
          "height": 773
        },
        "outputId": "fe02f26a-6288-46b2-c359-af8ec7018d01"
      },
      "source": [
        "input_size = 10\n",
        "output_size = 2\n",
        "hidden_layers_size = 50\n",
        "\n",
        "model = tf.keras.Sequential([tf.keras.layers.Dense(hidden_layers_size,activation= 'relu'),\n",
        "                             tf.keras.layers.Dense(hidden_layers_size,activation= 'relu'),\n",
        "                             tf.keras.layers.Dense(output_size,activation='softmax'),\n",
        "                             ])\n",
        "model.compile(optimizer='adam',loss= 'sparse_categorical_crossentropy',metrics = ['accuracy'])\n",
        "batch_size = 100\n",
        "max_epochs = 100\n",
        "early_stopping = tf.keras.callbacks.EarlyStopping(patience=2)\n",
        "model.fit(\n",
        "    train_inputs,train_targets,\n",
        "    batch_size = batch_size,\n",
        "    epochs = max_epochs,\n",
        "    callbacks = [early_stopping],\n",
        "    validation_data = (validation_inputs,validation_targets),\n",
        "    verbose = 2\n",
        ")"
      ],
      "execution_count": 21,
      "outputs": [
        {
          "output_type": "stream",
          "text": [
            "Epoch 1/100\n",
            "36/36 - 0s - loss: 0.5737 - accuracy: 0.7619 - val_loss: 0.4744 - val_accuracy: 0.8210\n",
            "Epoch 2/100\n",
            "36/36 - 0s - loss: 0.3876 - accuracy: 0.8723 - val_loss: 0.3951 - val_accuracy: 0.8501\n",
            "Epoch 3/100\n",
            "36/36 - 0s - loss: 0.3239 - accuracy: 0.8857 - val_loss: 0.3727 - val_accuracy: 0.8523\n",
            "Epoch 4/100\n",
            "36/36 - 0s - loss: 0.3002 - accuracy: 0.8902 - val_loss: 0.3443 - val_accuracy: 0.8546\n",
            "Epoch 5/100\n",
            "36/36 - 0s - loss: 0.2852 - accuracy: 0.8983 - val_loss: 0.3284 - val_accuracy: 0.8658\n",
            "Epoch 6/100\n",
            "36/36 - 0s - loss: 0.2760 - accuracy: 0.8975 - val_loss: 0.3303 - val_accuracy: 0.8591\n",
            "Epoch 7/100\n",
            "36/36 - 0s - loss: 0.2677 - accuracy: 0.9008 - val_loss: 0.3192 - val_accuracy: 0.8658\n",
            "Epoch 8/100\n",
            "36/36 - 0s - loss: 0.2614 - accuracy: 0.9061 - val_loss: 0.3114 - val_accuracy: 0.8658\n",
            "Epoch 9/100\n",
            "36/36 - 0s - loss: 0.2580 - accuracy: 0.9053 - val_loss: 0.3208 - val_accuracy: 0.8613\n",
            "Epoch 10/100\n",
            "36/36 - 0s - loss: 0.2527 - accuracy: 0.9067 - val_loss: 0.3104 - val_accuracy: 0.8702\n",
            "Epoch 11/100\n",
            "36/36 - 0s - loss: 0.2511 - accuracy: 0.9072 - val_loss: 0.3114 - val_accuracy: 0.8702\n",
            "Epoch 12/100\n",
            "36/36 - 0s - loss: 0.2485 - accuracy: 0.9084 - val_loss: 0.2992 - val_accuracy: 0.8770\n",
            "Epoch 13/100\n",
            "36/36 - 0s - loss: 0.2451 - accuracy: 0.9089 - val_loss: 0.2997 - val_accuracy: 0.8725\n",
            "Epoch 14/100\n",
            "36/36 - 0s - loss: 0.2430 - accuracy: 0.9109 - val_loss: 0.2991 - val_accuracy: 0.8725\n",
            "Epoch 15/100\n",
            "36/36 - 0s - loss: 0.2424 - accuracy: 0.9103 - val_loss: 0.2997 - val_accuracy: 0.8725\n",
            "Epoch 16/100\n",
            "36/36 - 0s - loss: 0.2411 - accuracy: 0.9117 - val_loss: 0.2989 - val_accuracy: 0.8747\n",
            "Epoch 17/100\n",
            "36/36 - 0s - loss: 0.2380 - accuracy: 0.9120 - val_loss: 0.3034 - val_accuracy: 0.8725\n",
            "Epoch 18/100\n",
            "36/36 - 0s - loss: 0.2399 - accuracy: 0.9128 - val_loss: 0.2960 - val_accuracy: 0.8792\n",
            "Epoch 19/100\n",
            "36/36 - 0s - loss: 0.2359 - accuracy: 0.9131 - val_loss: 0.2999 - val_accuracy: 0.8770\n",
            "Epoch 20/100\n",
            "36/36 - 0s - loss: 0.2343 - accuracy: 0.9148 - val_loss: 0.2846 - val_accuracy: 0.8747\n",
            "Epoch 21/100\n",
            "36/36 - 0s - loss: 0.2354 - accuracy: 0.9148 - val_loss: 0.2921 - val_accuracy: 0.8725\n",
            "Epoch 22/100\n",
            "36/36 - 0s - loss: 0.2332 - accuracy: 0.9134 - val_loss: 0.2887 - val_accuracy: 0.8747\n"
          ],
          "name": "stdout"
        },
        {
          "output_type": "execute_result",
          "data": {
            "text/plain": [
              "<tensorflow.python.keras.callbacks.History at 0x7facaaae4d68>"
            ]
          },
          "metadata": {
            "tags": []
          },
          "execution_count": 21
        }
      ]
    },
    {
      "cell_type": "markdown",
      "metadata": {
        "id": "sPE5xXDU-9I_",
        "colab_type": "text"
      },
      "source": [
        "**Test dataset validation**"
      ]
    },
    {
      "cell_type": "code",
      "metadata": {
        "id": "1J1dZJBX9rn9",
        "colab_type": "code",
        "colab": {
          "base_uri": "https://localhost:8080/",
          "height": 34
        },
        "outputId": "7e349530-6f93-411e-ca14-65d43f53e67c"
      },
      "source": [
        "test_loss , test_accurcy = model.evaluate(test_inputs,test_targets)  "
      ],
      "execution_count": 22,
      "outputs": [
        {
          "output_type": "stream",
          "text": [
            "14/14 [==============================] - 0s 3ms/step - loss: 0.2114 - accuracy: 0.9219\n"
          ],
          "name": "stdout"
        }
      ]
    },
    {
      "cell_type": "markdown",
      "metadata": {
        "id": "kh0sJgzkAGgy",
        "colab_type": "text"
      },
      "source": [
        "**Obtain the probability for a customer to convert**"
      ]
    },
    {
      "cell_type": "code",
      "metadata": {
        "id": "pwBDqO9k_fHZ",
        "colab_type": "code",
        "colab": {
          "base_uri": "https://localhost:8080/",
          "height": 1000
        },
        "outputId": "59942aaf-4e12-4064-f5be-4ba197494d88"
      },
      "source": [
        "model.predict(test_inputs).round(2)"
      ],
      "execution_count": 24,
      "outputs": [
        {
          "output_type": "execute_result",
          "data": {
            "text/plain": [
              "array([[0.9 , 0.1 ],\n",
              "       [0.9 , 0.1 ],\n",
              "       [0.  , 1.  ],\n",
              "       [0.1 , 0.9 ],\n",
              "       [1.  , 0.  ],\n",
              "       [0.  , 1.  ],\n",
              "       [0.98, 0.02],\n",
              "       [0.  , 1.  ],\n",
              "       [0.92, 0.08],\n",
              "       [0.94, 0.06],\n",
              "       [0.  , 1.  ],\n",
              "       [0.12, 0.88],\n",
              "       [1.  , 0.  ],\n",
              "       [0.82, 0.18],\n",
              "       [0.87, 0.13],\n",
              "       [0.  , 1.  ],\n",
              "       [0.  , 1.  ],\n",
              "       [0.5 , 0.5 ],\n",
              "       [0.56, 0.44],\n",
              "       [0.01, 0.99],\n",
              "       [1.  , 0.  ],\n",
              "       [0.22, 0.78],\n",
              "       [0.85, 0.15],\n",
              "       [0.65, 0.35],\n",
              "       [0.  , 1.  ],\n",
              "       [0.8 , 0.2 ],\n",
              "       [0.07, 0.93],\n",
              "       [1.  , 0.  ],\n",
              "       [0.14, 0.86],\n",
              "       [0.07, 0.93],\n",
              "       [0.11, 0.89],\n",
              "       [1.  , 0.  ],\n",
              "       [0.86, 0.14],\n",
              "       [0.  , 1.  ],\n",
              "       [0.93, 0.07],\n",
              "       [0.  , 1.  ],\n",
              "       [0.84, 0.16],\n",
              "       [0.77, 0.23],\n",
              "       [0.  , 1.  ],\n",
              "       [1.  , 0.  ],\n",
              "       [0.07, 0.93],\n",
              "       [0.1 , 0.9 ],\n",
              "       [0.93, 0.07],\n",
              "       [0.  , 1.  ],\n",
              "       [0.  , 1.  ],\n",
              "       [0.  , 1.  ],\n",
              "       [0.12, 0.88],\n",
              "       [1.  , 0.  ],\n",
              "       [0.93, 0.07],\n",
              "       [0.69, 0.31],\n",
              "       [0.  , 1.  ],\n",
              "       [0.88, 0.12],\n",
              "       [0.99, 0.01],\n",
              "       [1.  , 0.  ],\n",
              "       [1.  , 0.  ],\n",
              "       [0.  , 1.  ],\n",
              "       [0.79, 0.21],\n",
              "       [1.  , 0.  ],\n",
              "       [0.03, 0.97],\n",
              "       [0.14, 0.86],\n",
              "       [0.94, 0.06],\n",
              "       [0.94, 0.06],\n",
              "       [1.  , 0.  ],\n",
              "       [0.98, 0.02],\n",
              "       [0.97, 0.03],\n",
              "       [0.1 , 0.9 ],\n",
              "       [0.32, 0.68],\n",
              "       [0.58, 0.42],\n",
              "       [1.  , 0.  ],\n",
              "       [0.  , 1.  ],\n",
              "       [0.82, 0.18],\n",
              "       [0.  , 1.  ],\n",
              "       [0.93, 0.07],\n",
              "       [0.  , 1.  ],\n",
              "       [0.09, 0.91],\n",
              "       [1.  , 0.  ],\n",
              "       [0.79, 0.21],\n",
              "       [0.17, 0.83],\n",
              "       [0.  , 1.  ],\n",
              "       [0.12, 0.88],\n",
              "       [1.  , 0.  ],\n",
              "       [1.  , 0.  ],\n",
              "       [0.86, 0.14],\n",
              "       [0.07, 0.93],\n",
              "       [0.  , 1.  ],\n",
              "       [0.87, 0.13],\n",
              "       [0.  , 1.  ],\n",
              "       [0.17, 0.83],\n",
              "       [0.9 , 0.1 ],\n",
              "       [0.11, 0.89],\n",
              "       [0.08, 0.92],\n",
              "       [0.  , 1.  ],\n",
              "       [0.11, 0.89],\n",
              "       [1.  , 0.  ],\n",
              "       [0.01, 0.99],\n",
              "       [0.11, 0.89],\n",
              "       [0.2 , 0.8 ],\n",
              "       [0.2 , 0.8 ],\n",
              "       [1.  , 0.  ],\n",
              "       [1.  , 0.  ],\n",
              "       [0.  , 1.  ],\n",
              "       [0.66, 0.34],\n",
              "       [0.09, 0.91],\n",
              "       [0.01, 0.99],\n",
              "       [0.07, 0.93],\n",
              "       [0.  , 1.  ],\n",
              "       [0.96, 0.04],\n",
              "       [1.  , 0.  ],\n",
              "       [0.  , 1.  ],\n",
              "       [1.  , 0.  ],\n",
              "       [0.89, 0.11],\n",
              "       [1.  , 0.  ],\n",
              "       [0.14, 0.86],\n",
              "       [0.  , 1.  ],\n",
              "       [0.  , 1.  ],\n",
              "       [1.  , 0.  ],\n",
              "       [0.26, 0.74],\n",
              "       [0.2 , 0.8 ],\n",
              "       [0.  , 1.  ],\n",
              "       [0.  , 1.  ],\n",
              "       [0.  , 1.  ],\n",
              "       [0.16, 0.84],\n",
              "       [0.88, 0.12],\n",
              "       [0.12, 0.88],\n",
              "       [0.14, 0.86],\n",
              "       [1.  , 0.  ],\n",
              "       [0.13, 0.87],\n",
              "       [1.  , 0.  ],\n",
              "       [0.92, 0.08],\n",
              "       [0.14, 0.86],\n",
              "       [0.2 , 0.8 ],\n",
              "       [0.76, 0.24],\n",
              "       [1.  , 0.  ],\n",
              "       [0.96, 0.04],\n",
              "       [0.92, 0.08],\n",
              "       [0.  , 1.  ],\n",
              "       [0.12, 0.88],\n",
              "       [0.  , 1.  ],\n",
              "       [0.09, 0.91],\n",
              "       [1.  , 0.  ],\n",
              "       [0.13, 0.87],\n",
              "       [0.88, 0.12],\n",
              "       [0.02, 0.98],\n",
              "       [1.  , 0.  ],\n",
              "       [0.01, 0.99],\n",
              "       [0.  , 1.  ],\n",
              "       [0.93, 0.07],\n",
              "       [0.93, 0.07],\n",
              "       [0.07, 0.93],\n",
              "       [1.  , 0.  ],\n",
              "       [0.08, 0.92],\n",
              "       [0.07, 0.93],\n",
              "       [0.12, 0.88],\n",
              "       [0.  , 1.  ],\n",
              "       [0.54, 0.46],\n",
              "       [0.02, 0.98],\n",
              "       [0.06, 0.94],\n",
              "       [0.2 , 0.8 ],\n",
              "       [1.  , 0.  ],\n",
              "       [0.18, 0.82],\n",
              "       [0.  , 1.  ],\n",
              "       [0.01, 0.99],\n",
              "       [0.  , 1.  ],\n",
              "       [0.96, 0.04],\n",
              "       [0.46, 0.54],\n",
              "       [0.91, 0.09],\n",
              "       [0.99, 0.01],\n",
              "       [0.13, 0.87],\n",
              "       [0.14, 0.86],\n",
              "       [0.13, 0.87],\n",
              "       [0.07, 0.93],\n",
              "       [0.08, 0.92],\n",
              "       [0.87, 0.13],\n",
              "       [0.93, 0.07],\n",
              "       [0.87, 0.13],\n",
              "       [0.06, 0.94],\n",
              "       [0.94, 0.06],\n",
              "       [1.  , 0.  ],\n",
              "       [0.1 , 0.9 ],\n",
              "       [0.99, 0.01],\n",
              "       [0.  , 1.  ],\n",
              "       [0.09, 0.91],\n",
              "       [0.  , 1.  ],\n",
              "       [0.09, 0.91],\n",
              "       [0.08, 0.92],\n",
              "       [1.  , 0.  ],\n",
              "       [0.  , 1.  ],\n",
              "       [0.86, 0.14],\n",
              "       [0.  , 1.  ],\n",
              "       [1.  , 0.  ],\n",
              "       [0.87, 0.13],\n",
              "       [0.98, 0.02],\n",
              "       [0.87, 0.13],\n",
              "       [0.06, 0.94],\n",
              "       [0.03, 0.97],\n",
              "       [0.08, 0.92],\n",
              "       [0.2 , 0.8 ],\n",
              "       [1.  , 0.  ],\n",
              "       [0.  , 1.  ],\n",
              "       [0.85, 0.15],\n",
              "       [0.  , 1.  ],\n",
              "       [0.12, 0.88],\n",
              "       [0.  , 1.  ],\n",
              "       [0.1 , 0.9 ],\n",
              "       [0.02, 0.98],\n",
              "       [0.07, 0.93],\n",
              "       [0.1 , 0.9 ],\n",
              "       [0.9 , 0.1 ],\n",
              "       [0.04, 0.96],\n",
              "       [0.21, 0.79],\n",
              "       [1.  , 0.  ],\n",
              "       [0.  , 1.  ],\n",
              "       [1.  , 0.  ],\n",
              "       [0.  , 1.  ],\n",
              "       [0.33, 0.67],\n",
              "       [0.17, 0.83],\n",
              "       [0.89, 0.11],\n",
              "       [0.88, 0.12],\n",
              "       [0.08, 0.92],\n",
              "       [0.93, 0.07],\n",
              "       [0.  , 1.  ],\n",
              "       [0.91, 0.09],\n",
              "       [0.09, 0.91],\n",
              "       [0.  , 1.  ],\n",
              "       [1.  , 0.  ],\n",
              "       [0.89, 0.11],\n",
              "       [0.01, 0.99],\n",
              "       [0.09, 0.91],\n",
              "       [0.99, 0.01],\n",
              "       [0.09, 0.91],\n",
              "       [0.11, 0.89],\n",
              "       [0.92, 0.08],\n",
              "       [0.05, 0.95],\n",
              "       [0.88, 0.12],\n",
              "       [0.93, 0.07],\n",
              "       [0.94, 0.06],\n",
              "       [0.12, 0.88],\n",
              "       [0.  , 1.  ],\n",
              "       [0.05, 0.95],\n",
              "       [0.91, 0.09],\n",
              "       [0.82, 0.18],\n",
              "       [1.  , 0.  ],\n",
              "       [0.01, 0.99],\n",
              "       [0.01, 0.99],\n",
              "       [1.  , 0.  ],\n",
              "       [0.2 , 0.8 ],\n",
              "       [0.92, 0.08],\n",
              "       [0.07, 0.93],\n",
              "       [0.14, 0.86],\n",
              "       [0.  , 1.  ],\n",
              "       [1.  , 0.  ],\n",
              "       [1.  , 0.  ],\n",
              "       [1.  , 0.  ],\n",
              "       [0.2 , 0.8 ],\n",
              "       [0.11, 0.89],\n",
              "       [0.01, 0.99],\n",
              "       [0.94, 0.06],\n",
              "       [1.  , 0.  ],\n",
              "       [0.2 , 0.8 ],\n",
              "       [1.  , 0.  ],\n",
              "       [0.  , 1.  ],\n",
              "       [1.  , 0.  ],\n",
              "       [0.46, 0.54],\n",
              "       [0.  , 1.  ],\n",
              "       [0.12, 0.88],\n",
              "       [0.98, 0.02],\n",
              "       [0.76, 0.24],\n",
              "       [0.91, 0.09],\n",
              "       [0.  , 1.  ],\n",
              "       [1.  , 0.  ],\n",
              "       [0.93, 0.07],\n",
              "       [0.02, 0.98],\n",
              "       [0.7 , 0.3 ],\n",
              "       [0.09, 0.91],\n",
              "       [0.89, 0.11],\n",
              "       [0.14, 0.86],\n",
              "       [0.82, 0.18],\n",
              "       [0.  , 1.  ],\n",
              "       [0.94, 0.06],\n",
              "       [0.75, 0.25],\n",
              "       [0.98, 0.02],\n",
              "       [1.  , 0.  ],\n",
              "       [0.98, 0.02],\n",
              "       [0.12, 0.88],\n",
              "       [0.91, 0.09],\n",
              "       [0.2 , 0.8 ],\n",
              "       [0.11, 0.89],\n",
              "       [0.86, 0.14],\n",
              "       [0.07, 0.93],\n",
              "       [0.15, 0.85],\n",
              "       [0.08, 0.92],\n",
              "       [0.84, 0.16],\n",
              "       [1.  , 0.  ],\n",
              "       [0.04, 0.96],\n",
              "       [0.  , 1.  ],\n",
              "       [0.94, 0.06],\n",
              "       [0.  , 1.  ],\n",
              "       [0.94, 0.06],\n",
              "       [0.  , 1.  ],\n",
              "       [1.  , 0.  ],\n",
              "       [0.  , 1.  ],\n",
              "       [0.03, 0.97],\n",
              "       [0.91, 0.09],\n",
              "       [0.92, 0.08],\n",
              "       [1.  , 0.  ],\n",
              "       [0.  , 1.  ],\n",
              "       [0.14, 0.86],\n",
              "       [0.2 , 0.8 ],\n",
              "       [0.04, 0.96],\n",
              "       [0.06, 0.94],\n",
              "       [1.  , 0.  ],\n",
              "       [1.  , 0.  ],\n",
              "       [0.  , 1.  ],\n",
              "       [0.62, 0.38],\n",
              "       [0.87, 0.13],\n",
              "       [0.95, 0.05],\n",
              "       [0.13, 0.87],\n",
              "       [0.14, 0.86],\n",
              "       [0.74, 0.26],\n",
              "       [0.  , 1.  ],\n",
              "       [0.67, 0.33],\n",
              "       [0.9 , 0.1 ],\n",
              "       [0.03, 0.97],\n",
              "       [0.96, 0.04],\n",
              "       [0.  , 1.  ],\n",
              "       [0.13, 0.87],\n",
              "       [0.  , 1.  ],\n",
              "       [0.11, 0.89],\n",
              "       [0.94, 0.06],\n",
              "       [0.91, 0.09],\n",
              "       [0.  , 1.  ],\n",
              "       [0.14, 0.86],\n",
              "       [0.27, 0.73],\n",
              "       [0.83, 0.17],\n",
              "       [0.  , 1.  ],\n",
              "       [0.81, 0.19],\n",
              "       [0.  , 1.  ],\n",
              "       [0.2 , 0.8 ],\n",
              "       [1.  , 0.  ],\n",
              "       [0.  , 1.  ],\n",
              "       [0.  , 1.  ],\n",
              "       [0.67, 0.33],\n",
              "       [1.  , 0.  ],\n",
              "       [0.07, 0.93],\n",
              "       [0.2 , 0.8 ],\n",
              "       [0.78, 0.22],\n",
              "       [0.87, 0.13],\n",
              "       [0.08, 0.92],\n",
              "       [0.89, 0.11],\n",
              "       [0.94, 0.06],\n",
              "       [0.1 , 0.9 ],\n",
              "       [0.99, 0.01],\n",
              "       [0.87, 0.13],\n",
              "       [0.66, 0.34],\n",
              "       [0.06, 0.94],\n",
              "       [0.  , 1.  ],\n",
              "       [0.04, 0.96],\n",
              "       [1.  , 0.  ],\n",
              "       [1.  , 0.  ],\n",
              "       [0.  , 1.  ],\n",
              "       [0.12, 0.88],\n",
              "       [0.98, 0.02],\n",
              "       [0.08, 0.92],\n",
              "       [0.13, 0.87],\n",
              "       [0.09, 0.91],\n",
              "       [0.13, 0.87],\n",
              "       [0.  , 1.  ],\n",
              "       [0.  , 1.  ],\n",
              "       [0.  , 1.  ],\n",
              "       [0.92, 0.08],\n",
              "       [0.13, 0.87],\n",
              "       [0.44, 0.56],\n",
              "       [0.  , 1.  ],\n",
              "       [0.87, 0.13],\n",
              "       [0.93, 0.07],\n",
              "       [0.  , 1.  ],\n",
              "       [0.94, 0.06],\n",
              "       [0.  , 1.  ],\n",
              "       [1.  , 0.  ],\n",
              "       [1.  , 0.  ],\n",
              "       [0.  , 1.  ],\n",
              "       [1.  , 0.  ],\n",
              "       [0.  , 1.  ],\n",
              "       [0.88, 0.12],\n",
              "       [0.1 , 0.9 ],\n",
              "       [1.  , 0.  ],\n",
              "       [1.  , 0.  ],\n",
              "       [0.84, 0.16],\n",
              "       [0.94, 0.06],\n",
              "       [0.2 , 0.8 ],\n",
              "       [0.  , 1.  ],\n",
              "       [1.  , 0.  ],\n",
              "       [0.9 , 0.1 ],\n",
              "       [0.  , 1.  ],\n",
              "       [0.  , 1.  ],\n",
              "       [0.04, 0.96],\n",
              "       [0.08, 0.92],\n",
              "       [0.16, 0.84],\n",
              "       [0.88, 0.12],\n",
              "       [0.  , 1.  ],\n",
              "       [0.  , 1.  ],\n",
              "       [0.63, 0.37],\n",
              "       [0.14, 0.86],\n",
              "       [0.85, 0.15],\n",
              "       [0.84, 0.16],\n",
              "       [0.63, 0.37],\n",
              "       [0.  , 1.  ],\n",
              "       [0.13, 0.87],\n",
              "       [0.2 , 0.8 ],\n",
              "       [1.  , 0.  ],\n",
              "       [0.02, 0.98],\n",
              "       [0.09, 0.91],\n",
              "       [0.07, 0.93],\n",
              "       [0.91, 0.09],\n",
              "       [0.16, 0.84],\n",
              "       [0.  , 1.  ],\n",
              "       [0.96, 0.04],\n",
              "       [0.2 , 0.8 ],\n",
              "       [0.99, 0.01],\n",
              "       [1.  , 0.  ],\n",
              "       [0.84, 0.16],\n",
              "       [0.09, 0.91],\n",
              "       [1.  , 0.  ],\n",
              "       [0.82, 0.18],\n",
              "       [0.  , 1.  ],\n",
              "       [0.1 , 0.9 ],\n",
              "       [0.07, 0.93],\n",
              "       [0.99, 0.01],\n",
              "       [0.  , 1.  ],\n",
              "       [0.  , 1.  ],\n",
              "       [0.91, 0.09],\n",
              "       [0.74, 0.26],\n",
              "       [0.08, 0.92],\n",
              "       [0.12, 0.88],\n",
              "       [1.  , 0.  ],\n",
              "       [0.12, 0.88],\n",
              "       [0.82, 0.18],\n",
              "       [0.7 , 0.3 ],\n",
              "       [0.2 , 0.8 ],\n",
              "       [0.83, 0.17],\n",
              "       [0.14, 0.86],\n",
              "       [1.  , 0.  ],\n",
              "       [0.2 , 0.8 ],\n",
              "       [1.  , 0.  ],\n",
              "       [0.08, 0.92],\n",
              "       [0.32, 0.68],\n",
              "       [0.13, 0.87],\n",
              "       [0.74, 0.26]], dtype=float32)"
            ]
          },
          "metadata": {
            "tags": []
          },
          "execution_count": 24
        }
      ]
    },
    {
      "cell_type": "code",
      "metadata": {
        "id": "_HByc17EAVaZ",
        "colab_type": "code",
        "colab": {
          "base_uri": "https://localhost:8080/",
          "height": 706
        },
        "outputId": "a798461a-6a45-4df8-adae-8f238eec9a37"
      },
      "source": [
        "model.predict(test_inputs)[:,1].round(2)"
      ],
      "execution_count": 26,
      "outputs": [
        {
          "output_type": "execute_result",
          "data": {
            "text/plain": [
              "array([0.1 , 0.1 , 1.  , 0.9 , 0.  , 1.  , 0.02, 1.  , 0.08, 0.06, 1.  ,\n",
              "       0.88, 0.  , 0.18, 0.13, 1.  , 1.  , 0.5 , 0.44, 0.99, 0.  , 0.78,\n",
              "       0.15, 0.35, 1.  , 0.2 , 0.93, 0.  , 0.86, 0.93, 0.89, 0.  , 0.14,\n",
              "       1.  , 0.07, 1.  , 0.16, 0.23, 1.  , 0.  , 0.93, 0.9 , 0.07, 1.  ,\n",
              "       1.  , 1.  , 0.88, 0.  , 0.07, 0.31, 1.  , 0.12, 0.01, 0.  , 0.  ,\n",
              "       1.  , 0.21, 0.  , 0.97, 0.86, 0.06, 0.06, 0.  , 0.02, 0.03, 0.9 ,\n",
              "       0.68, 0.42, 0.  , 1.  , 0.18, 1.  , 0.07, 1.  , 0.91, 0.  , 0.21,\n",
              "       0.83, 1.  , 0.88, 0.  , 0.  , 0.14, 0.93, 1.  , 0.13, 1.  , 0.83,\n",
              "       0.1 , 0.89, 0.92, 1.  , 0.89, 0.  , 0.99, 0.89, 0.8 , 0.8 , 0.  ,\n",
              "       0.  , 1.  , 0.34, 0.91, 0.99, 0.93, 1.  , 0.04, 0.  , 1.  , 0.  ,\n",
              "       0.11, 0.  , 0.86, 1.  , 1.  , 0.  , 0.74, 0.8 , 1.  , 1.  , 1.  ,\n",
              "       0.84, 0.12, 0.88, 0.86, 0.  , 0.87, 0.  , 0.08, 0.86, 0.8 , 0.24,\n",
              "       0.  , 0.04, 0.08, 1.  , 0.88, 1.  , 0.91, 0.  , 0.87, 0.12, 0.98,\n",
              "       0.  , 0.99, 1.  , 0.07, 0.07, 0.93, 0.  , 0.92, 0.93, 0.88, 1.  ,\n",
              "       0.46, 0.98, 0.94, 0.8 , 0.  , 0.82, 1.  , 0.99, 1.  , 0.04, 0.54,\n",
              "       0.09, 0.01, 0.87, 0.86, 0.87, 0.93, 0.92, 0.13, 0.07, 0.13, 0.94,\n",
              "       0.06, 0.  , 0.9 , 0.01, 1.  , 0.91, 1.  , 0.91, 0.92, 0.  , 1.  ,\n",
              "       0.14, 1.  , 0.  , 0.13, 0.02, 0.13, 0.94, 0.97, 0.92, 0.8 , 0.  ,\n",
              "       1.  , 0.15, 1.  , 0.88, 1.  , 0.9 , 0.98, 0.93, 0.9 , 0.1 , 0.96,\n",
              "       0.79, 0.  , 1.  , 0.  , 1.  , 0.67, 0.83, 0.11, 0.12, 0.92, 0.07,\n",
              "       1.  , 0.09, 0.91, 1.  , 0.  , 0.11, 0.99, 0.91, 0.01, 0.91, 0.89,\n",
              "       0.08, 0.95, 0.12, 0.07, 0.06, 0.88, 1.  , 0.95, 0.09, 0.18, 0.  ,\n",
              "       0.99, 0.99, 0.  , 0.8 , 0.08, 0.93, 0.86, 1.  , 0.  , 0.  , 0.  ,\n",
              "       0.8 , 0.89, 0.99, 0.06, 0.  , 0.8 , 0.  , 1.  , 0.  , 0.54, 1.  ,\n",
              "       0.88, 0.02, 0.24, 0.09, 1.  , 0.  , 0.07, 0.98, 0.3 , 0.91, 0.11,\n",
              "       0.86, 0.18, 1.  , 0.06, 0.25, 0.02, 0.  , 0.02, 0.88, 0.09, 0.8 ,\n",
              "       0.89, 0.14, 0.93, 0.85, 0.92, 0.16, 0.  , 0.96, 1.  , 0.06, 1.  ,\n",
              "       0.06, 1.  , 0.  , 1.  , 0.97, 0.09, 0.08, 0.  , 1.  , 0.86, 0.8 ,\n",
              "       0.96, 0.94, 0.  , 0.  , 1.  , 0.38, 0.13, 0.05, 0.87, 0.86, 0.26,\n",
              "       1.  , 0.33, 0.1 , 0.97, 0.04, 1.  , 0.87, 1.  , 0.89, 0.06, 0.09,\n",
              "       1.  , 0.86, 0.73, 0.17, 1.  , 0.19, 1.  , 0.8 , 0.  , 1.  , 1.  ,\n",
              "       0.33, 0.  , 0.93, 0.8 , 0.22, 0.13, 0.92, 0.11, 0.06, 0.9 , 0.01,\n",
              "       0.13, 0.34, 0.94, 1.  , 0.96, 0.  , 0.  , 1.  , 0.88, 0.02, 0.92,\n",
              "       0.87, 0.91, 0.87, 1.  , 1.  , 1.  , 0.08, 0.87, 0.56, 1.  , 0.13,\n",
              "       0.07, 1.  , 0.06, 1.  , 0.  , 0.  , 1.  , 0.  , 1.  , 0.12, 0.9 ,\n",
              "       0.  , 0.  , 0.16, 0.06, 0.8 , 1.  , 0.  , 0.1 , 1.  , 1.  , 0.96,\n",
              "       0.92, 0.84, 0.12, 1.  , 1.  , 0.37, 0.86, 0.15, 0.16, 0.37, 1.  ,\n",
              "       0.87, 0.8 , 0.  , 0.98, 0.91, 0.93, 0.09, 0.84, 1.  , 0.04, 0.8 ,\n",
              "       0.01, 0.  , 0.16, 0.91, 0.  , 0.18, 1.  , 0.9 , 0.93, 0.01, 1.  ,\n",
              "       1.  , 0.09, 0.26, 0.92, 0.88, 0.  , 0.88, 0.18, 0.3 , 0.8 , 0.17,\n",
              "       0.86, 0.  , 0.8 , 0.  , 0.92, 0.68, 0.87, 0.26], dtype=float32)"
            ]
          },
          "metadata": {
            "tags": []
          },
          "execution_count": 26
        }
      ]
    },
    {
      "cell_type": "code",
      "metadata": {
        "id": "on-coOKNA40O",
        "colab_type": "code",
        "colab": {
          "base_uri": "https://localhost:8080/",
          "height": 370
        },
        "outputId": "a859cda4-5888-4a53-c983-a5a624c73449"
      },
      "source": [
        "#for multiclass problem\n",
        "np.argmax(model.predict(test_inputs),axis =1)"
      ],
      "execution_count": 27,
      "outputs": [
        {
          "output_type": "execute_result",
          "data": {
            "text/plain": [
              "array([0, 0, 1, 1, 0, 1, 0, 1, 0, 0, 1, 1, 0, 0, 0, 1, 1, 1, 0, 1, 0, 1,\n",
              "       0, 0, 1, 0, 1, 0, 1, 1, 1, 0, 0, 1, 0, 1, 0, 0, 1, 0, 1, 1, 0, 1,\n",
              "       1, 1, 1, 0, 0, 0, 1, 0, 0, 0, 0, 1, 0, 0, 1, 1, 0, 0, 0, 0, 0, 1,\n",
              "       1, 0, 0, 1, 0, 1, 0, 1, 1, 0, 0, 1, 1, 1, 0, 0, 0, 1, 1, 0, 1, 1,\n",
              "       0, 1, 1, 1, 1, 0, 1, 1, 1, 1, 0, 0, 1, 0, 1, 1, 1, 1, 0, 0, 1, 0,\n",
              "       0, 0, 1, 1, 1, 0, 1, 1, 1, 1, 1, 1, 0, 1, 1, 0, 1, 0, 0, 1, 1, 0,\n",
              "       0, 0, 0, 1, 1, 1, 1, 0, 1, 0, 1, 0, 1, 1, 0, 0, 1, 0, 1, 1, 1, 1,\n",
              "       0, 1, 1, 1, 0, 1, 1, 1, 1, 0, 1, 0, 0, 1, 1, 1, 1, 1, 0, 0, 0, 1,\n",
              "       0, 0, 1, 0, 1, 1, 1, 1, 1, 0, 1, 0, 1, 0, 0, 0, 0, 1, 1, 1, 1, 0,\n",
              "       1, 0, 1, 1, 1, 1, 1, 1, 1, 0, 1, 1, 0, 1, 0, 1, 1, 1, 0, 0, 1, 0,\n",
              "       1, 0, 1, 1, 0, 0, 1, 1, 0, 1, 1, 0, 1, 0, 0, 0, 1, 1, 1, 0, 0, 0,\n",
              "       1, 1, 0, 1, 0, 1, 1, 1, 0, 0, 0, 1, 1, 1, 0, 0, 1, 0, 1, 0, 1, 1,\n",
              "       1, 0, 0, 0, 1, 0, 0, 1, 0, 1, 0, 1, 0, 1, 0, 0, 0, 0, 0, 1, 0, 1,\n",
              "       1, 0, 1, 1, 1, 0, 0, 1, 1, 0, 1, 0, 1, 0, 1, 1, 0, 0, 0, 1, 1, 1,\n",
              "       1, 1, 0, 0, 1, 0, 0, 0, 1, 1, 0, 1, 0, 0, 1, 0, 1, 1, 1, 1, 0, 0,\n",
              "       1, 1, 1, 0, 1, 0, 1, 1, 0, 1, 1, 0, 0, 1, 1, 0, 0, 1, 0, 0, 1, 0,\n",
              "       0, 0, 1, 1, 1, 0, 0, 1, 1, 0, 1, 1, 1, 1, 1, 1, 1, 0, 1, 1, 1, 0,\n",
              "       0, 1, 0, 1, 0, 0, 1, 0, 1, 0, 1, 0, 0, 0, 0, 1, 1, 0, 0, 1, 1, 1,\n",
              "       1, 1, 0, 1, 1, 0, 1, 0, 0, 0, 1, 1, 1, 0, 1, 1, 1, 0, 1, 1, 0, 1,\n",
              "       0, 0, 0, 1, 0, 0, 1, 1, 1, 0, 1, 1, 0, 0, 1, 1, 0, 1, 0, 0, 1, 0,\n",
              "       1, 0, 1, 0, 1, 1, 1, 0])"
            ]
          },
          "metadata": {
            "tags": []
          },
          "execution_count": 27
        }
      ]
    },
    {
      "cell_type": "markdown",
      "metadata": {
        "id": "6AtkERR3BeFp",
        "colab_type": "text"
      },
      "source": [
        "save the model"
      ]
    },
    {
      "cell_type": "code",
      "metadata": {
        "id": "KkEKQ3UqBXCs",
        "colab_type": "code",
        "colab": {}
      },
      "source": [
        "model.save('audiobook_model.h5')"
      ],
      "execution_count": 28,
      "outputs": []
    },
    {
      "cell_type": "code",
      "metadata": {
        "id": "SWZhVR8rBtjq",
        "colab_type": "code",
        "colab": {}
      },
      "source": [
        ""
      ],
      "execution_count": null,
      "outputs": []
    }
  ]
}